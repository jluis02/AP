{
 "cells": [
  {
   "cell_type": "code",
   "execution_count": 1,
   "metadata": {},
   "outputs": [
    {
     "name": "stdout",
     "output_type": "stream",
     "text": [
      "Using device: cpu\n"
     ]
    }
   ],
   "source": [
    "import torch\n",
    "import torch.nn as nn\n",
    "import torch.optim as optim\n",
    "from sklearn.metrics import accuracy_score, f1_score, precision_score, recall_score, confusion_matrix\n",
    "import matplotlib.pyplot as plt\n",
    "import seaborn as sns\n",
    "import numpy as np\n",
    "\n",
    "device = torch.device(\"cuda\" if torch.cuda.is_available() else \"cpu\")\n",
    "print(f\"Using device: {device}\")"
   ]
  },
  {
   "cell_type": "code",
   "execution_count": 2,
   "metadata": {},
   "outputs": [],
   "source": [
    "def calculate_metrics(y_true, y_pred, num_classes=4):\n",
    "    accuracy = accuracy_score(y_true, y_pred)\n",
    "    f1 = f1_score(y_true, y_pred, average='weighted', labels=np.arange(num_classes))\n",
    "    precision = precision_score(y_true, y_pred, average='weighted', labels=np.arange(num_classes))\n",
    "    recall = recall_score(y_true, y_pred, average='weighted', labels=np.arange(num_classes))\n",
    "    \n",
    "    cm = confusion_matrix(y_true, y_pred, labels=np.arange(num_classes))\n",
    "    \n",
    "    return accuracy, f1, precision, recall, cm\n"
   ]
  },
  {
   "cell_type": "code",
   "execution_count": 3,
   "metadata": {},
   "outputs": [],
   "source": [
    "def plot_confusion_matrix(cm, classes, normalize=False, title='Confusion Matrix', cmap=plt.cm.Blues):\n",
    "    plt.figure(figsize=(10,7))\n",
    "    if normalize:\n",
    "        cm = cm.astype('float') / cm.sum(axis=1)[:, np.newaxis]\n",
    "    sns.heatmap(cm, annot=True, fmt='.2f' if normalize else 'd', cmap=cmap,\n",
    "                xticklabels=classes, yticklabels=classes, cbar=False)\n",
    "    plt.title(title)\n",
    "    plt.xlabel('Predicted Label')\n",
    "    plt.ylabel('True Label')\n",
    "    plt.show()\n"
   ]
  },
  {
   "cell_type": "code",
   "execution_count": 4,
   "metadata": {},
   "outputs": [],
   "source": [
    "def evaluate_model(model, dataloader, num_classes=4):\n",
    "    model.eval()\n",
    "    \n",
    "    all_preds = []\n",
    "    all_labels = []\n",
    "    \n",
    "    with torch.no_grad():\n",
    "        for inputs, targets in tqdm(dataloader):\n",
    "            inputs, targets = inputs.to(device), targets.to(device)\n",
    "            outputs = model(inputs)\n",
    "            preds = torch.argmax(outputs, dim=1)\n",
    "            \n",
    "            all_preds.extend(preds.cpu().numpy())\n",
    "            all_labels.extend(targets.cpu().numpy())\n",
    "    \n",
    "    accuracy, f1, precision, recall, cm = calculate_metrics(all_labels, all_preds, num_classes)\n",
    "    \n",
    "    print(f'Accuracy: {accuracy:.4f}')\n",
    "    print(f'F1 Score (weighted): {f1:.4f}')\n",
    "    print(f'Precision (weighted): {precision:.4f}')\n",
    "    print(f'Recall (weighted): {recall:.4f}')\n",
    "    \n",
    "    plot_confusion_matrix(cm, classes=[f'Class {i}' for i in range(num_classes)], normalize=True)\n",
    "    \n",
    "    return accuracy, f1, precision, recall, cm\n"
   ]
  },
  {
   "cell_type": "code",
   "execution_count": 5,
   "metadata": {},
   "outputs": [
    {
     "name": "stdout",
     "output_type": "stream",
     "text": [
      "\n",
      "Evaluating CNNModel_1:\n"
     ]
    },
    {
     "ename": "NameError",
     "evalue": "name 'model1' is not defined",
     "output_type": "error",
     "traceback": [
      "\u001b[0;31m---------------------------------------------------------------------------\u001b[0m",
      "\u001b[0;31mNameError\u001b[0m                                 Traceback (most recent call last)",
      "Cell \u001b[0;32mIn[5], line 3\u001b[0m\n\u001b[1;32m      1\u001b[0m \u001b[38;5;66;03m# Avaliar CNNModel_1\u001b[39;00m\n\u001b[1;32m      2\u001b[0m \u001b[38;5;28mprint\u001b[39m(\u001b[38;5;124m\"\u001b[39m\u001b[38;5;130;01m\\n\u001b[39;00m\u001b[38;5;124mEvaluating CNNModel_1:\u001b[39m\u001b[38;5;124m\"\u001b[39m)\n\u001b[0;32m----> 3\u001b[0m accuracy_1, f1_1, precision_1, recall_1, cm_1 \u001b[38;5;241m=\u001b[39m evaluate_model(\u001b[43mmodel1\u001b[49m, loader, num_classes\u001b[38;5;241m=\u001b[39m\u001b[38;5;241m4\u001b[39m)\n\u001b[1;32m      5\u001b[0m \u001b[38;5;66;03m# Avaliar CNNModel_2\u001b[39;00m\n\u001b[1;32m      6\u001b[0m \u001b[38;5;28mprint\u001b[39m(\u001b[38;5;124m\"\u001b[39m\u001b[38;5;130;01m\\n\u001b[39;00m\u001b[38;5;124mEvaluating CNNModel_2:\u001b[39m\u001b[38;5;124m\"\u001b[39m)\n",
      "\u001b[0;31mNameError\u001b[0m: name 'model1' is not defined"
     ]
    }
   ],
   "source": [
    "# Avaliar CNNModel_1\n",
    "print(\"\\nEvaluating CNNModel_1:\")\n",
    "accuracy_1, f1_1, precision_1, recall_1, cm_1 = evaluate_model(model1, loader, num_classes=4)\n",
    "\n",
    "# Avaliar CNNModel_2\n",
    "print(\"\\nEvaluating CNNModel_2:\")\n",
    "accuracy_2, f1_2, precision_2, recall_2, cm_2 = evaluate_model(model2, loader, num_classes=4)\n",
    "\n",
    "# Avaliar CNNModel_3\n",
    "print(\"\\nEvaluating CNNModel_3:\")\n",
    "accuracy_3, f1_3, precision_3, recall_3, cm_3 = evaluate_model(model3, loader, num_classes=4)\n",
    "\n",
    "# Avaliar CNNModel_4\n",
    "print(\"\\nEvaluating CNNModel_4:\")\n",
    "accuracy_4, f1_4, precision_4, recall_4, cm_4 = evaluate_model(model4, loader, num_classes=4)\n"
   ]
  },
  {
   "cell_type": "code",
   "execution_count": null,
   "metadata": {},
   "outputs": [],
   "source": [
    "# Exibir as métricas comparativas de todos os modelos\n",
    "metrics = {\n",
    "    'Model': ['CNNModel_1', 'CNNModel_2', 'CNNModel_3', 'CNNModel_4'],\n",
    "    'Accuracy': [accuracy_1, accuracy_2, accuracy_3, accuracy_4],\n",
    "    'F1 Score': [f1_1, f1_2, f1_3, f1_4],\n",
    "    'Precision': [precision_1, precision_2, precision_3, precision_4],\n",
    "    'Recall': [recall_1, recall_2, recall_3, recall_4]\n",
    "}\n",
    "\n",
    "metrics_df = pd.DataFrame(metrics)\n",
    "\n",
    "import ace_tools as tools; tools.display_dataframe_to_user(name=\"Model Comparison\", dataframe=metrics_df)\n"
   ]
  },
  {
   "cell_type": "code",
   "execution_count": null,
   "metadata": {},
   "outputs": [],
   "source": [
    "metrics_df.to_csv(\"../outputs/models/metrics_comparison.csv\", index=False)\n",
    "print(\"Métricas salvas com sucesso!\")\n"
   ]
  },
  {
   "cell_type": "code",
   "execution_count": null,
   "metadata": {},
   "outputs": [],
   "source": [
    "# Gráfico comparativo de métricas para os modelos\n",
    "metrics_df.plot(x='Model', y=['Accuracy', 'F1 Score', 'Precision', 'Recall'], kind='bar', figsize=(10,6))\n",
    "plt.title('Comparação de Métricas entre os Modelos')\n",
    "plt.ylabel('Valor da Métrica')\n",
    "plt.xlabel('Modelo')\n",
    "plt.show()\n"
   ]
  }
 ],
 "metadata": {
  "kernelspec": {
   "display_name": "ap",
   "language": "python",
   "name": "python3"
  },
  "language_info": {
   "codemirror_mode": {
    "name": "ipython",
    "version": 3
   },
   "file_extension": ".py",
   "mimetype": "text/x-python",
   "name": "python",
   "nbconvert_exporter": "python",
   "pygments_lexer": "ipython3",
   "version": "3.9.21"
  }
 },
 "nbformat": 4,
 "nbformat_minor": 2
}
